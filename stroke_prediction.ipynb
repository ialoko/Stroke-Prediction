{
  "nbformat": 4,
  "nbformat_minor": 0,
  "metadata": {
    "kernelspec": {
      "language": "python",
      "display_name": "Python 3",
      "name": "python3"
    },
    "language_info": {
      "name": "python",
      "version": "3.7.9",
      "mimetype": "text/x-python",
      "codemirror_mode": {
        "name": "ipython",
        "version": 3
      },
      "pygments_lexer": "ipython3",
      "nbconvert_exporter": "python",
      "file_extension": ".py"
    },
    "colab": {
      "name": "stroke-prediction.ipynb",
      "provenance": [],
      "include_colab_link": true
    }
  },
  "cells": [
    {
      "cell_type": "markdown",
      "metadata": {
        "id": "view-in-github",
        "colab_type": "text"
      },
      "source": [
        "<a href=\"https://colab.research.google.com/github/ialoko/Stroke-Prediction/blob/main/stroke_prediction.ipynb\" target=\"_parent\"><img src=\"https://colab.research.google.com/assets/colab-badge.svg\" alt=\"Open In Colab\"/></a>"
      ]
    },
    {
      "cell_type": "code",
      "metadata": {
        "_uuid": "8f2839f25d086af736a60e9eeb907d3b93b6e0e5",
        "_cell_guid": "b1076dfc-b9ad-4769-8c92-a6c4dae69d19",
        "trusted": true,
        "id": "sRf-5U7xCVpX"
      },
      "source": [
        "!pip install -q sklearn"
      ],
      "execution_count": null,
      "outputs": []
    },
    {
      "cell_type": "code",
      "metadata": {
        "trusted": true,
        "id": "Nd6cvVCBCVpl"
      },
      "source": [
        "from __future__ import absolute_import, division, print_function, unicode_literals\n",
        "import numpy as np # linear algebra\n",
        "import pandas as pd # data processing, CSV file I/O (e.g. pd.read_csv)\n",
        "import matplotlib.pyplot as plt\n",
        "from IPython.display import clear_output\n",
        "from six.moves import urllib\n",
        "\n",
        "import tensorflow.compat.v2.feature_column as fc\n",
        "import tensorflow as tf\n",
        "from google.colab import files\n",
        "files.upload()\n",
        "clear_output()  # clears console output"
      ],
      "execution_count": 28,
      "outputs": []
    },
    {
      "cell_type": "markdown",
      "metadata": {
        "id": "qWHLwqYOHxrx"
      },
      "source": [
        "#Introduction\n",
        "According to the World Health Organization (WHO) stroke is the 2nd leading cause of death globally, responsible for approximately 11% of total deaths.\n",
        "This model is used to predict whether a patient is likely to get stroke based on the input parameters like gender, age, various diseases, and smoking status."
      ]
    },
    {
      "cell_type": "markdown",
      "metadata": {
        "id": "QbUyVEL-CVpm"
      },
      "source": [
        "# Importing, formatting and cleaning our data"
      ]
    },
    {
      "cell_type": "code",
      "metadata": {
        "trusted": true,
        "id": "AFCPzKo4CVpn"
      },
      "source": [
        "# Importing Data\n",
        "raw_data = pd.read_csv('healthcare-dataset-stroke-data.csv')\n",
        "# The id column is not relevant\n",
        "raw_data.drop(columns=['id'],inplace=True)\n",
        "# Imputing the missing values with the mean\n",
        "raw_data= raw_data.fillna(np.mean(raw_data['bmi'])) #to avoid NaN loss later on\n",
        "dataset = raw_data.copy()\n",
        "#split dataset insto training dataset and testing dataset\n",
        "train_dataset = dataset.sample(frac=0.8, random_state=0)\n",
        "test_dataset = dataset.drop(train_dataset.index)\n",
        "y_train = train_dataset.pop('stroke') #pop stroke because that is what we are trying to predict\n",
        "y_test = test_dataset.pop('stroke') #pop stroke because that is what we are trying to predict"
      ],
      "execution_count": 9,
      "outputs": []
    },
    {
      "cell_type": "code",
      "metadata": {
        "trusted": true,
        "id": "agNDfOqpCVpn",
        "colab": {
          "base_uri": "https://localhost:8080/",
          "height": 204
        },
        "outputId": "ae2729f2-b6b7-41d4-a9de-7a9324aa28f4"
      },
      "source": [
        "train_dataset.head()"
      ],
      "execution_count": 10,
      "outputs": [
        {
          "output_type": "execute_result",
          "data": {
            "text/html": [
              "<div>\n",
              "<style scoped>\n",
              "    .dataframe tbody tr th:only-of-type {\n",
              "        vertical-align: middle;\n",
              "    }\n",
              "\n",
              "    .dataframe tbody tr th {\n",
              "        vertical-align: top;\n",
              "    }\n",
              "\n",
              "    .dataframe thead th {\n",
              "        text-align: right;\n",
              "    }\n",
              "</style>\n",
              "<table border=\"1\" class=\"dataframe\">\n",
              "  <thead>\n",
              "    <tr style=\"text-align: right;\">\n",
              "      <th></th>\n",
              "      <th>gender</th>\n",
              "      <th>age</th>\n",
              "      <th>hypertension</th>\n",
              "      <th>heart_disease</th>\n",
              "      <th>ever_married</th>\n",
              "      <th>work_type</th>\n",
              "      <th>Residence_type</th>\n",
              "      <th>avg_glucose_level</th>\n",
              "      <th>bmi</th>\n",
              "      <th>smoking_status</th>\n",
              "    </tr>\n",
              "  </thead>\n",
              "  <tbody>\n",
              "    <tr>\n",
              "      <th>42</th>\n",
              "      <td>Male</td>\n",
              "      <td>82.0</td>\n",
              "      <td>0</td>\n",
              "      <td>1</td>\n",
              "      <td>Yes</td>\n",
              "      <td>Private</td>\n",
              "      <td>Urban</td>\n",
              "      <td>144.90</td>\n",
              "      <td>26.4</td>\n",
              "      <td>smokes</td>\n",
              "    </tr>\n",
              "    <tr>\n",
              "      <th>380</th>\n",
              "      <td>Male</td>\n",
              "      <td>4.0</td>\n",
              "      <td>0</td>\n",
              "      <td>0</td>\n",
              "      <td>No</td>\n",
              "      <td>children</td>\n",
              "      <td>Rural</td>\n",
              "      <td>106.22</td>\n",
              "      <td>16.7</td>\n",
              "      <td>Unknown</td>\n",
              "    </tr>\n",
              "    <tr>\n",
              "      <th>3524</th>\n",
              "      <td>Male</td>\n",
              "      <td>58.0</td>\n",
              "      <td>0</td>\n",
              "      <td>0</td>\n",
              "      <td>Yes</td>\n",
              "      <td>Private</td>\n",
              "      <td>Urban</td>\n",
              "      <td>79.95</td>\n",
              "      <td>25.9</td>\n",
              "      <td>never smoked</td>\n",
              "    </tr>\n",
              "    <tr>\n",
              "      <th>352</th>\n",
              "      <td>Female</td>\n",
              "      <td>20.0</td>\n",
              "      <td>0</td>\n",
              "      <td>0</td>\n",
              "      <td>No</td>\n",
              "      <td>Private</td>\n",
              "      <td>Rural</td>\n",
              "      <td>96.57</td>\n",
              "      <td>34.1</td>\n",
              "      <td>never smoked</td>\n",
              "    </tr>\n",
              "    <tr>\n",
              "      <th>4927</th>\n",
              "      <td>Female</td>\n",
              "      <td>10.0</td>\n",
              "      <td>0</td>\n",
              "      <td>0</td>\n",
              "      <td>No</td>\n",
              "      <td>children</td>\n",
              "      <td>Rural</td>\n",
              "      <td>69.84</td>\n",
              "      <td>13.7</td>\n",
              "      <td>Unknown</td>\n",
              "    </tr>\n",
              "  </tbody>\n",
              "</table>\n",
              "</div>"
            ],
            "text/plain": [
              "      gender   age  hypertension  ...  avg_glucose_level   bmi smoking_status\n",
              "42      Male  82.0             0  ...             144.90  26.4         smokes\n",
              "380     Male   4.0             0  ...             106.22  16.7        Unknown\n",
              "3524    Male  58.0             0  ...              79.95  25.9   never smoked\n",
              "352   Female  20.0             0  ...              96.57  34.1   never smoked\n",
              "4927  Female  10.0             0  ...              69.84  13.7        Unknown\n",
              "\n",
              "[5 rows x 10 columns]"
            ]
          },
          "metadata": {
            "tags": []
          },
          "execution_count": 10
        }
      ]
    },
    {
      "cell_type": "markdown",
      "metadata": {
        "id": "tJAjliWoCVpp"
      },
      "source": [
        "# Let's visualise some helpful data"
      ]
    },
    {
      "cell_type": "code",
      "metadata": {
        "trusted": true,
        "id": "GZI7l4iiCVpq",
        "colab": {
          "base_uri": "https://localhost:8080/",
          "height": 312
        },
        "outputId": "a1d4e44b-862e-4f63-cc67-d82bcf5df051"
      },
      "source": [
        "plt.title('Stroke levels in Men vs Women',weight='bold')\n",
        "dataset.groupby('gender').stroke.mean().plot(kind='barh').set_xlabel('% Stroke')"
      ],
      "execution_count": 11,
      "outputs": [
        {
          "output_type": "execute_result",
          "data": {
            "text/plain": [
              "Text(0.5, 0, '% Stroke')"
            ]
          },
          "metadata": {
            "tags": []
          },
          "execution_count": 11
        },
        {
          "output_type": "display_data",
          "data": {
            "image/png": "[encoded data removed]",
            "text/plain": [
              "<Figure size 432x288 with 1 Axes>"
            ]
          },
          "metadata": {
            "tags": [],
            "needs_background": "light"
          }
        }
      ]
    },
    {
      "cell_type": "markdown",
      "metadata": {
        "id": "1VvDQ-X1CVps"
      },
      "source": [
        "We can conclude that stroke is more common in men than women."
      ]
    },
    {
      "cell_type": "code",
      "metadata": {
        "trusted": true,
        "id": "7FFhMnVnCVpt",
        "colab": {
          "base_uri": "https://localhost:8080/",
          "height": 312
        },
        "outputId": "33534d44-53b6-4d22-87a0-8afaca69948f"
      },
      "source": [
        "plt.title('Has the patient ever been married? ',weight='bold')\n",
        "dataset.groupby('ever_married').stroke.mean().plot(kind='barh').set_xlabel('% Stroke')"
      ],
      "execution_count": 12,
      "outputs": [
        {
          "output_type": "execute_result",
          "data": {
            "text/plain": [
              "Text(0.5, 0, '% Stroke')"
            ]
          },
          "metadata": {
            "tags": []
          },
          "execution_count": 12
        },
        {
          "output_type": "display_data",
          "data": {
            "image/png": "[encoded data removed]",
            "text/plain": [
              "<Figure size 432x288 with 1 Axes>"
            ]
          },
          "metadata": {
            "tags": [],
            "needs_background": "light"
          }
        }
      ]
    },
    {
      "cell_type": "markdown",
      "metadata": {
        "id": "PzOVDPtYCVpu"
      },
      "source": [
        "We can conclude that stroke is significantly higher in those that have been married than those that have never gotten married."
      ]
    },
    {
      "cell_type": "code",
      "metadata": {
        "trusted": true,
        "id": "GnGLHRRzCVpu",
        "colab": {
          "base_uri": "https://localhost:8080/",
          "height": 374
        },
        "outputId": "b20fe0d3-807e-4cc0-99a5-d62c36483450"
      },
      "source": [
        "plt.title('Work type of stroke patients ',weight='bold')\n",
        "dataset.groupby('work_type').stroke.mean().plot(kind='bar').set_ylabel('% Stroke')"
      ],
      "execution_count": 13,
      "outputs": [
        {
          "output_type": "execute_result",
          "data": {
            "text/plain": [
              "Text(0, 0.5, '% Stroke')"
            ]
          },
          "metadata": {
            "tags": []
          },
          "execution_count": 13
        },
        {
          "output_type": "display_data",
          "data": {
            "image/png": "[encoded data removed]",
            "text/plain": [
              "<Figure size 432x288 with 1 Axes>"
            ]
          },
          "metadata": {
            "tags": [],
            "needs_background": "light"
          }
        }
      ]
    },
    {
      "cell_type": "markdown",
      "metadata": {
        "id": "ZzQJ8J7WCVpw"
      },
      "source": [
        "We can conclude that stroke is higher amongts those that are self-employed and lowest amongst those that have never worked or are children."
      ]
    },
    {
      "cell_type": "code",
      "metadata": {
        "trusted": true,
        "id": "Wvs4hn6sCVpx",
        "colab": {
          "base_uri": "https://localhost:8080/",
          "height": 333
        },
        "outputId": "25ff8955-ecc3-4606-9420-371d811e3b8d"
      },
      "source": [
        "plt.title('Residence type of stroke patients',weight='bold')\n",
        "dataset.groupby('Residence_type').stroke.mean().plot(kind='bar').set_ylabel('% Stroke')"
      ],
      "execution_count": 14,
      "outputs": [
        {
          "output_type": "execute_result",
          "data": {
            "text/plain": [
              "Text(0, 0.5, '% Stroke')"
            ]
          },
          "metadata": {
            "tags": []
          },
          "execution_count": 14
        },
        {
          "output_type": "display_data",
          "data": {
            "image/png": "[encoded data removed]",
            "text/plain": [
              "<Figure size 432x288 with 1 Axes>"
            ]
          },
          "metadata": {
            "tags": [],
            "needs_background": "light"
          }
        }
      ]
    },
    {
      "cell_type": "markdown",
      "metadata": {
        "id": "mgGffs8QCVpy"
      },
      "source": [
        "A higher percentage of stroke patients lived in Urban residences."
      ]
    },
    {
      "cell_type": "code",
      "metadata": {
        "trusted": true,
        "id": "owiDWlh-CVpy",
        "colab": {
          "base_uri": "https://localhost:8080/",
          "height": 349
        },
        "outputId": "322362dd-a6c3-42a8-d50c-cdd15ee3dfc6"
      },
      "source": [
        "age_stroke = dataset[[\"age\", \"stroke\"]]\n",
        "plt.title('Stroke levels by age',weight='bold')\n",
        "age_stroke.groupby('stroke').age.plot(kind='hist')"
      ],
      "execution_count": 15,
      "outputs": [
        {
          "output_type": "execute_result",
          "data": {
            "text/plain": [
              "stroke\n",
              "0    AxesSubplot(0.125,0.125;0.775x0.755)\n",
              "1    AxesSubplot(0.125,0.125;0.775x0.755)\n",
              "Name: age, dtype: object"
            ]
          },
          "metadata": {
            "tags": []
          },
          "execution_count": 15
        },
        {
          "output_type": "display_data",
          "data": {
            "image/png": "[encoded data removed]",
            "text/plain": [
              "<Figure size 432x288 with 1 Axes>"
            ]
          },
          "metadata": {
            "tags": [],
            "needs_background": "light"
          }
        }
      ]
    },
    {
      "cell_type": "markdown",
      "metadata": {
        "id": "luRtDZF-CVpz"
      },
      "source": [
        "Visualizing the age vs stroke levels was difficult to do, as I am still a beginner to the pandas library. However, as shown above, stroke levels increase with age."
      ]
    },
    {
      "cell_type": "code",
      "metadata": {
        "trusted": true,
        "id": "0gLGqrgTCVpz",
        "colab": {
          "base_uri": "https://localhost:8080/",
          "height": 298
        },
        "outputId": "fb75a5e1-d3f7-4dec-d740-616cf729b4de"
      },
      "source": [
        "other_health_issues = dataset[[\"stroke\", \"hypertension\", \"heart_disease\"]]\n",
        "df = pd.DataFrame(other_health_issues,columns=[\"stroke\", \"hypertension\", \"heart_disease\"])\n",
        "df.plot(kind = \"kde\")\n",
        "plt.title('Comparing the density functions of stroke, hypertension and heart disease',weight='bold')"
      ],
      "execution_count": 16,
      "outputs": [
        {
          "output_type": "execute_result",
          "data": {
            "text/plain": [
              "Text(0.5, 1.0, 'Comparing the density functions of stroke, hypertension and heart disease')"
            ]
          },
          "metadata": {
            "tags": []
          },
          "execution_count": 16
        },
        {
          "output_type": "display_data",
          "data": {
            "image/png": "[encoded data removed]",
            "text/plain": [
              "<Figure size 432x288 with 1 Axes>"
            ]
          },
          "metadata": {
            "tags": [],
            "needs_background": "light"
          }
        }
      ]
    },
    {
      "cell_type": "markdown",
      "metadata": {
        "id": "wb5OrcwoCVp0"
      },
      "source": [
        "As shown above, by comparing the probability density functions of the 3 health conditions, we can see an overlap. This is especially true for heart disease and stroke."
      ]
    },
    {
      "cell_type": "code",
      "metadata": {
        "trusted": true,
        "id": "zd02fBCzCVp1",
        "colab": {
          "base_uri": "https://localhost:8080/",
          "height": 387
        },
        "outputId": "d7bfbbe1-af80-4746-b4b6-35f89956c22a"
      },
      "source": [
        "plt.title('Smoking of stroke patients',weight='bold')\n",
        "dataset.groupby('smoking_status').stroke.mean().plot(kind='bar').set_ylabel('% Stroke')"
      ],
      "execution_count": 17,
      "outputs": [
        {
          "output_type": "execute_result",
          "data": {
            "text/plain": [
              "Text(0, 0.5, '% Stroke')"
            ]
          },
          "metadata": {
            "tags": []
          },
          "execution_count": 17
        },
        {
          "output_type": "display_data",
          "data": {
            "image/png": "[encoded data removed]",
            "text/plain": [
              "<Figure size 432x288 with 1 Axes>"
            ]
          },
          "metadata": {
            "tags": [],
            "needs_background": "light"
          }
        }
      ]
    },
    {
      "cell_type": "markdown",
      "metadata": {
        "id": "VS4KplikCVp1"
      },
      "source": [
        "As seen above, smoking is highest in groups in groups that are former smokers."
      ]
    },
    {
      "cell_type": "code",
      "metadata": {
        "trusted": true,
        "id": "LtJk-Z9bCVp2",
        "colab": {
          "base_uri": "https://localhost:8080/",
          "height": 312
        },
        "outputId": "7992b5bf-e0bc-48d5-e40b-bb1840fcaf68"
      },
      "source": [
        "pd.concat([train_dataset, y_train], axis=1).plot(x='bmi', y='stroke', kind = 'scatter')\n",
        "plt.title('Analysing bmi levels in stroke patients',weight='bold')"
      ],
      "execution_count": 18,
      "outputs": [
        {
          "output_type": "execute_result",
          "data": {
            "text/plain": [
              "Text(0.5, 1.0, 'Analysing bmi levels in stroke patients')"
            ]
          },
          "metadata": {
            "tags": []
          },
          "execution_count": 18
        },
        {
          "output_type": "display_data",
          "data": {
            "image/png": "[encoded data removed]",
            "text/plain": [
              "<Figure size 432x288 with 1 Axes>"
            ]
          },
          "metadata": {
            "tags": [],
            "needs_background": "light"
          }
        }
      ]
    },
    {
      "cell_type": "markdown",
      "metadata": {
        "id": "QtOb_DQXCVp3"
      },
      "source": [
        "Using a scatter plot, we can see that bmi levels in stroke patients on average tend to be higher"
      ]
    },
    {
      "cell_type": "markdown",
      "metadata": {
        "id": "kkRZu7vvCVp3"
      },
      "source": [
        "# Building a TensorFlow model to predict stroke"
      ]
    },
    {
      "cell_type": "code",
      "metadata": {
        "trusted": true,
        "id": "69fRS2P4CVp4"
      },
      "source": [
        "# Classifying data into numerical and categorical variables.\n",
        "NUMERIC_COLUMNS = ['age','avg_glucose_level','bmi']\n",
        "CATEGORICAL_COLUMNS = ['gender', 'hypertension', 'heart_disease', 'ever_married','work_type', 'Residence_type', \n",
        "                       'smoking_status']\n",
        "\n",
        "feature_columns = []\n",
        "for feature_name in CATEGORICAL_COLUMNS:\n",
        "  vocabulary = train_dataset[feature_name].unique()  # gets a list of all unique values from given feature column\n",
        "  feature_columns.append(tf.feature_column.categorical_column_with_vocabulary_list(feature_name, vocabulary))\n",
        "\n",
        "for feature_name in NUMERIC_COLUMNS:\n",
        "  feature_columns.append(tf.feature_column.numeric_column(feature_name, dtype=tf.float32))"
      ],
      "execution_count": 23,
      "outputs": []
    },
    {
      "cell_type": "code",
      "metadata": {
        "trusted": true,
        "id": "IdVAoQ3SCVp4"
      },
      "source": [
        "def make_input_fn(data_df, label_df, num_epochs=10, shuffle=True, batch_size=32):\n",
        "  def input_function():  # inner function, this will be returned\n",
        "    ds = tf.data.Dataset.from_tensor_slices((dict(data_df), label_df))  # create tf.data.Dataset object with data and its label\n",
        "    if shuffle:\n",
        "      ds = ds.shuffle(1000)  # randomize order of data\n",
        "    ds = ds.batch(batch_size).repeat(num_epochs)  # split dataset into batches of 32 and repeat process for number of epochs\n",
        "    return ds  # return a batch of the dataset\n",
        "  return input_function  # return a function object for use\n",
        "\n",
        "train_input_fn = make_input_fn(train_dataset, y_train)\n",
        "test_input_fn = make_input_fn(test_dataset, y_test, num_epochs=1, shuffle=False)"
      ],
      "execution_count": 24,
      "outputs": []
    },
    {
      "cell_type": "code",
      "metadata": {
        "trusted": true,
        "id": "aY_vIImhCVp5",
        "colab": {
          "base_uri": "https://localhost:8080/"
        },
        "outputId": "937781ee-c683-49d7-c754-d444b3b7ef93"
      },
      "source": [
        "# We create a linear estimator by passing the feature columns we created earlier\n",
        "linear_est = tf.estimator.LinearClassifier(feature_columns=feature_columns)\n",
        "linear_est.train(train_input_fn)  # train\n",
        "result = linear_est.evaluate(test_input_fn)  # get model metrics/stats by testing on testing data\n",
        "\n",
        "clear_output()  # clears console output\n",
        "print(result['accuracy'])  # the result variable is simply a dict of stats about our model"
      ],
      "execution_count": 26,
      "outputs": [
        {
          "output_type": "stream",
          "text": [
            "0.94520545\n"
          ],
          "name": "stdout"
        }
      ]
    },
    {
      "cell_type": "markdown",
      "metadata": {
        "id": "s4gBLgLUCVp6"
      },
      "source": [
        "Our model has a 94% accuracy rate which is pretty good."
      ]
    },
    {
      "cell_type": "markdown",
      "metadata": {
        "id": "xPHdZEOcCVp7"
      },
      "source": [
        "# Predicting probability of stroke in our testing data"
      ]
    },
    {
      "cell_type": "code",
      "metadata": {
        "trusted": true,
        "id": "3y2r25mYCVp7",
        "colab": {
          "base_uri": "https://localhost:8080/",
          "height": 454
        },
        "outputId": "53796631-a4e2-41f9-db20-90a339e0be1d"
      },
      "source": [
        "pred_dicts = list(linear_est.predict(test_input_fn))\n",
        "probs = pd.Series([pred['probabilities'][1] for pred in pred_dicts])\n",
        "\n",
        "probs.plot(kind='hist', bins=20, title='Stroke predicted probabilities')"
      ],
      "execution_count": 27,
      "outputs": [
        {
          "output_type": "stream",
          "text": [
            "INFO:tensorflow:Calling model_fn.\n"
          ],
          "name": "stdout"
        },
        {
          "output_type": "stream",
          "text": [
            "/usr/local/lib/python3.7/dist-packages/tensorflow/python/keras/engine/base_layer_v1.py:1727: UserWarning: `layer.add_variable` is deprecated and will be removed in a future version. Please use `layer.add_weight` method instead.\n",
            "  warnings.warn('`layer.add_variable` is deprecated and '\n"
          ],
          "name": "stderr"
        },
        {
          "output_type": "stream",
          "text": [
            "INFO:tensorflow:Done calling model_fn.\n",
            "INFO:tensorflow:Graph was finalized.\n",
            "INFO:tensorflow:Restoring parameters from /tmp/tmpxut72ixq/model.ckpt-1280\n",
            "INFO:tensorflow:Running local_init_op.\n",
            "INFO:tensorflow:Done running local_init_op.\n"
          ],
          "name": "stdout"
        },
        {
          "output_type": "execute_result",
          "data": {
            "text/plain": [
              "<matplotlib.axes._subplots.AxesSubplot at 0x7fe2522f8a90>"
            ]
          },
          "metadata": {
            "tags": []
          },
          "execution_count": 27
        },
        {
          "output_type": "display_data",
          "data": {
            "image/png": "[encoded data removed]",
            "text/plain": [
              "<Figure size 432x288 with 1 Axes>"
            ]
          },
          "metadata": {
            "tags": [],
            "needs_background": "light"
          }
        }
      ]
    },
    {
      "cell_type": "markdown",
      "metadata": {
        "id": "9TQ0qpk7CVp8"
      },
      "source": [
        "our testing data has a pretty low probability of stroke."
      ]
    },
    {
      "cell_type": "markdown",
      "metadata": {
        "id": "g8qtg5spCVp8"
      },
      "source": [
        "# Acknowlegements\n",
        "\n",
        "Used this tutorial to understand the basics of building tensorflow models\n",
        "https://www.youtube.com/watch?v=tPYj3fFJGjk&t=9962s\n",
        "\n",
        "Dataset credit to: https://www.kaggle.com/fedesoriano/stroke-prediction-dataset?select=healthcare-dataset-stroke-data.csv\n",
        "\n"
      ]
    }
  ]
}